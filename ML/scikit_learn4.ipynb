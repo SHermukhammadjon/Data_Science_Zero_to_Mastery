{
  "nbformat": 4,
  "nbformat_minor": 0,
  "metadata": {
    "colab": {
      "provenance": [],
      "authorship_tag": "ABX9TyPUU2znUiodW9Xfti8J0tCj",
      "include_colab_link": true
    },
    "kernelspec": {
      "name": "python3",
      "display_name": "Python 3"
    },
    "language_info": {
      "name": "python"
    }
  },
  "cells": [
    {
      "cell_type": "markdown",
      "metadata": {
        "id": "view-in-github",
        "colab_type": "text"
      },
      "source": [
        "<a href=\"https://colab.research.google.com/github/SHermukhammadjon/Data_Science_Zero_to_Mastery/blob/main/ML/scikit_learn4.ipynb\" target=\"_parent\"><img src=\"https://colab.research.google.com/assets/colab-badge.svg\" alt=\"Open In Colab\"/></a>"
      ]
    },
    {
      "cell_type": "markdown",
      "source": [
        "# Maschine Learning Loyiha qadamalri\n",
        "(4-notebook)\n",
        "\n",
        "<img src=\"https://drive.google.com/uc?id=1ZKgMJ92OMgfBHsvQmFmNhXw5aM9P9vXu\">"
      ],
      "metadata": {
        "id": "7a3sc5jAhvGc"
      }
    },
    {
      "cell_type": "code",
      "execution_count": null,
      "metadata": {
        "id": "OzYlDc5ghqW5"
      },
      "outputs": [],
      "source": []
    },
    {
      "cell_type": "markdown",
      "source": [
        "# Split the data\n",
        "<img src='https://cdn-coiao.nitrocdn.com/CYHudqJZsSxQpAPzLkHFOkuzFKDpEHGF/assets/static/optimized/rev-85bf93c/wp-content/uploads/2022/05/train-test-split_simple-visual-example_v2.png'>"
      ],
      "metadata": {
        "id": "yvpHhyx0htrd"
      }
    },
    {
      "cell_type": "code",
      "source": [],
      "metadata": {
        "id": "K7Q9S_TAhuQX"
      },
      "execution_count": null,
      "outputs": []
    }
  ]
}